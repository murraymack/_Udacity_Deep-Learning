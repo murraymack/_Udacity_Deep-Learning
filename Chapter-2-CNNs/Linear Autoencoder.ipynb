{
 "cells": [
  {
   "cell_type": "code",
   "execution_count": 3,
   "metadata": {},
   "outputs": [],
   "source": [
    "import torch\n",
    "import numpy as np\n",
    "from torchvision import datasets\n",
    "from torchvision.transforms import transforms\n",
    "\n",
    "batch_size = 28\n",
    "num_workers = 0\n",
    "transforms = transforms.ToTensor()\n",
    "\n",
    "train_data = datasets.MNIST(root='data', train=True, download=True, transform=transforms)\n",
    "test_data = datasets.MNIST(root='data', train=False, download=True, transform=transforms)\n",
    "\n",
    "train_loader = torch.utils.data.DataLoader(train_data, batch_size=batch_size, num_workers = 0)\n",
    "test_loader = torch.utils.data.DataLoader(test_data, batch_size=batch_size, num_workers = 0)"
   ]
  },
  {
   "cell_type": "code",
   "execution_count": 8,
   "metadata": {},
   "outputs": [
    {
     "data": {
      "text/plain": [
       "<matplotlib.image.AxesImage at 0x2025c9f97f0>"
      ]
     },
     "execution_count": 8,
     "metadata": {},
     "output_type": "execute_result"
    },
    {
     "data": {
      "image/png": "[encoded data removed]",
      "text/plain": [
       "<Figure size 360x360 with 1 Axes>"
      ]
     },
     "metadata": {
      "needs_background": "light"
     },
     "output_type": "display_data"
    }
   ],
   "source": [
    "import matplotlib.pyplot as plt\n",
    "%matplotlib inline\n",
    "\n",
    "dataiter=iter(train_loader)\n",
    "images,labels = dataiter.next()\n",
    "images = images.numpy()\n",
    "\n",
    "img = np.squeeze(images[0])\n",
    "\n",
    "fig = plt.figure(figsize=(5,5))\n",
    "ax = fig.add_subplot(111)\n",
    "ax.imshow(img, cmap='gray')"
   ]
  },
  {
   "cell_type": "code",
   "execution_count": 28,
   "metadata": {},
   "outputs": [
    {
     "name": "stdout",
     "output_type": "stream",
     "text": [
      "Autoencoder(\n",
      "  (en_fc1): Linear(in_features=784, out_features=512, bias=True)\n",
      "  (en_fc2): Linear(in_features=512, out_features=256, bias=True)\n",
      "  (en_fc3): Linear(in_features=256, out_features=32, bias=True)\n",
      "  (de_fc1): Linear(in_features=32, out_features=256, bias=True)\n",
      "  (de_fc2): Linear(in_features=256, out_features=512, bias=True)\n",
      "  (de_fc3): Linear(in_features=512, out_features=784, bias=True)\n",
      "  (dropout): Dropout(p=0.3, inplace=False)\n",
      ")\n"
     ]
    }
   ],
   "source": [
    "import torch.nn as nn\n",
    "import torch.nn.functional as F\n",
    "\n",
    "class Autoencoder(nn.Module):\n",
    "    def __init__(self, encoding_dim):\n",
    "        super(Autoencoder, self).__init__()\n",
    "        # Encoder\n",
    "        self.en_fc1 = nn.Linear(784,512)\n",
    "        self.en_fc2 = nn.Linear(512, 256)\n",
    "        self.en_fc3 = nn.Linear(256,encoding_dim)\n",
    "        # Decoder\n",
    "        self.de_fc1 = nn.Linear(encoding_dim, 256)\n",
    "        self.de_fc2 = nn.Linear(256, 512)\n",
    "        self.de_fc3 = nn.Linear(512, 784)\n",
    "        \n",
    "        self.dropout = nn.Dropout(p=0.3)\n",
    "    \n",
    "    def forward(self, x):\n",
    "        #x = x.view(-1, 28*28)\n",
    "        x = F.relu(self.en_fc1(x))\n",
    "        x = self.dropout(x)\n",
    "        x = F.relu(self.en_fc2(x))\n",
    "        x = self.dropout(x)\n",
    "        x = F.relu(self.en_fc3(x))\n",
    "        x = self.dropout(x)\n",
    "        x = F.relu(self.de_fc1(x))\n",
    "        x = self.dropout(x)\n",
    "        x = F.relu(self.de_fc2(x))\n",
    "        x = self.dropout(x)\n",
    "        x = F.sigmoid(self.de_fc3(x))\n",
    "        return x\n",
    "\n",
    "encoding_dim = 32\n",
    "model = Autoencoder(encoding_dim)\n",
    "print(model)"
   ]
  },
  {
   "cell_type": "code",
   "execution_count": 29,
   "metadata": {},
   "outputs": [],
   "source": [
    "criterion = nn.MSELoss()\n",
    "optimizer = torch.optim.Adam(model.parameters(), lr=0.001)\n",
    "n_epochs = 20"
   ]
  },
  {
   "cell_type": "code",
   "execution_count": 30,
   "metadata": {},
   "outputs": [
    {
     "name": "stdout",
     "output_type": "stream",
     "text": [
      "Epoch: 0 \tTraining Loss: 1.2883565046251292951495770466863177716732025146484375\n",
      "Epoch: 1 \tTraining Loss: 1.051518050247105318106832783087156713008880615234375\n",
      "Epoch: 2 \tTraining Loss: 1.01015580370778845775703302933834493160247802734375\n",
      "Epoch: 3 \tTraining Loss: 0.98837925448520014271025502239353954792022705078125\n",
      "Epoch: 4 \tTraining Loss: 0.97409021732020584227740300775622017681598663330078125\n",
      "Epoch: 5 \tTraining Loss: 0.96589831893849031896337464786483906209468841552734375\n",
      "Epoch: 6 \tTraining Loss: 0.95956597721957737068265714697190560400485992431640625\n",
      "Epoch: 7 \tTraining Loss: 0.9530691888584914561732830406981520354747772216796875\n",
      "Epoch: 8 \tTraining Loss: 0.95080167004022431154197647629189305007457733154296875\n",
      "Epoch: 9 \tTraining Loss: 0.94569637007903561976007722478243522346019744873046875\n",
      "Epoch: 10 \tTraining Loss: 0.9424428933422197562919109259382821619510650634765625\n",
      "Epoch: 11 \tTraining Loss: 0.9403310281598729059027164112194441258907318115234375\n",
      "Epoch: 12 \tTraining Loss: 0.93970475892735816358936062897555530071258544921875\n",
      "Epoch: 13 \tTraining Loss: 0.93711310820467164095504131182678975164890289306640625\n",
      "Epoch: 14 \tTraining Loss: 0.9340201295422050353778331555076874792575836181640625\n",
      "Epoch: 15 \tTraining Loss: 0.933241114131602156334110986790619790554046630859375\n",
      "Epoch: 16 \tTraining Loss: 0.931658476883153507941415227833203971385955810546875\n",
      "Epoch: 17 \tTraining Loss: 0.93311100047754447217585038742981851100921630859375\n",
      "Epoch: 18 \tTraining Loss: 0.93156792536009380700789961338159628212451934814453125\n",
      "Epoch: 19 \tTraining Loss: 0.9308021789780855925755531643517315387725830078125\n"
     ]
    }
   ],
   "source": [
    "for epoch in range(n_epochs):\n",
    "    train_loss = 0\n",
    "    \n",
    "    for data in train_loader:\n",
    "        images, labels = data\n",
    "        images = images.view(images.size(0), -1)\n",
    "        optimizer.zero_grad()\n",
    "        output = model(images)\n",
    "        loss = criterion(output, images)\n",
    "        loss.backward()\n",
    "        optimizer.step()\n",
    "        train_loss += loss.item()*images.size(0)\n",
    "        \n",
    "    train_loss = train_loss / len(train_loader)\n",
    "    print('Epoch: {} \\tTraining Loss: {:.64}'.format(epoch, train_loss))"
   ]
  },
  {
   "cell_type": "code",
   "execution_count": 32,
   "metadata": {},
   "outputs": [
    {
     "data": {
      "image/png": "[encoded data removed]",
      "text/plain": [
       "<Figure size 1800x288 with 20 Axes>"
      ]
     },
     "metadata": {
      "needs_background": "light"
     },
     "output_type": "display_data"
    }
   ],
   "source": [
    "dataiter = iter(test_loader)\n",
    "images, labels = dataiter.next()\n",
    "images_flatten = images.view(images.size(0), -1)\n",
    "output = model(images_flatten)\n",
    "images = images.numpy()\n",
    "output = output.view(batch_size, 1, 28, 28)\n",
    "# Use detach when it's an output that requires_grad\n",
    "output = output.detach().numpy()\n",
    "fig, axes = plt.subplots(nrows=2, ncols=10, sharex=True, sharey=True, figsize=(25,4))\n",
    "\n",
    "for images, row in zip([images, output], axes):\n",
    "    for img, ax in zip(images, row):\n",
    "        ax.imshow(np.squeeze(img), cmap='gray')\n",
    "        ax.get_xaxis().set_visible(False)\n",
    "        ax.get_yaxis().set_visible(False)"
   ]
  }
 ],
 "metadata": {
  "kernelspec": {
   "display_name": "Python 3",
   "language": "python",
   "name": "python3"
  },
  "language_info": {
   "codemirror_mode": {
    "name": "ipython",
    "version": 3
   },
   "file_extension": ".py",
   "mimetype": "text/x-python",
   "name": "python",
   "nbconvert_exporter": "python",
   "pygments_lexer": "ipython3",
   "version": "3.5.5"
  }
 },
 "nbformat": 4,
 "nbformat_minor": 4
}
