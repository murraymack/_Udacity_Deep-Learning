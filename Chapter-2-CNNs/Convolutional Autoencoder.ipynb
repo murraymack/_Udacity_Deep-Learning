{
 "cells": [
  {
   "cell_type": "markdown",
   "metadata": {},
   "source": [
    "### Data Pre-processing"
   ]
  },
  {
   "cell_type": "code",
   "execution_count": 18,
   "metadata": {},
   "outputs": [],
   "source": [
    "import torch\n",
    "import numpy as np\n",
    "from torchvision import datasets\n",
    "import torchvision.transforms as transforms\n",
    "\n",
    "transform = transforms.ToTensor()\n",
    "\n",
    "train_data = datasets.MNIST(root='data', train=True, download=True, transform=transform)\n",
    "test_data = datasets.MNIST(root='data', train=False, download=True, transform=transform)\n",
    "\n",
    "batch_size = 28\n",
    "num_workers = 0\n",
    "\n",
    "train_loader = torch.utils.data.DataLoader(train_data, batch_size=batch_size, num_workers = 0)\n",
    "test_loader = torch.utils.data.DataLoader(test_data, batch_size=batch_size, num_workers = 0)"
   ]
  },
  {
   "cell_type": "code",
   "execution_count": 19,
   "metadata": {},
   "outputs": [
    {
     "name": "stdout",
     "output_type": "stream",
     "text": [
      "21952 (28, 1, 28, 28)\n",
      "784 (28, 28)\n"
     ]
    },
    {
     "data": {
      "text/plain": [
       "<matplotlib.image.AxesImage at 0x1943d0fb400>"
      ]
     },
     "execution_count": 19,
     "metadata": {},
     "output_type": "execute_result"
    },
    {
     "data": {
      "image/png": "[encoded data removed]",
      "text/plain": [
       "<Figure size 360x360 with 1 Axes>"
      ]
     },
     "metadata": {
      "needs_background": "light"
     },
     "output_type": "display_data"
    }
   ],
   "source": [
    "import matplotlib.pyplot as plt\n",
    "%matplotlib inline\n",
    "\n",
    "dataiter = iter(train_loader)\n",
    "images, labels = dataiter.next()\n",
    "images = images.numpy()\n",
    "img = np.squeeze(images[0])\n",
    "print(images.size, images.shape)\n",
    "print(img.size, img.shape)\n",
    "\n",
    "fig = plt.figure(figsize = (5,5)) \n",
    "ax = fig.add_subplot(111)\n",
    "ax.imshow(img, cmap='gray')"
   ]
  },
  {
   "cell_type": "markdown",
   "metadata": {},
   "source": [
    "### Network Architecture: Transpose Convolutional Layers"
   ]
  },
  {
   "cell_type": "code",
   "execution_count": 110,
   "metadata": {},
   "outputs": [
    {
     "name": "stdout",
     "output_type": "stream",
     "text": [
      "tCNN_Autoencoder(\n",
      "  (en_conv1): Conv2d(1, 16, kernel_size=(3, 3), stride=(1, 1), padding=(1, 1))\n",
      "  (en_conv2): Conv2d(16, 32, kernel_size=(3, 3), stride=(1, 1), padding=(1, 1))\n",
      "  (en_conv3): Conv2d(32, 4, kernel_size=(3, 3), stride=(1, 1), padding=(1, 1))\n",
      "  (de_tconv1): ConvTranspose2d(4, 32, kernel_size=(3, 3), stride=(2, 2))\n",
      "  (de_tconv2): ConvTranspose2d(32, 16, kernel_size=(2, 2), stride=(2, 2))\n",
      "  (de_tconv3): ConvTranspose2d(16, 1, kernel_size=(2, 2), stride=(2, 2))\n",
      "  (pool): MaxPool2d(kernel_size=2, stride=2, padding=0, dilation=1, ceil_mode=False)\n",
      ")\n"
     ]
    }
   ],
   "source": [
    "import torch.nn as nn\n",
    "import torch.nn.functional as F\n",
    "\n",
    "class tCNN_Autoencoder(nn.Module):\n",
    "    def __init__(self):\n",
    "        super(tCNN_Autoencoder, self).__init__()\n",
    "        # Encoder\n",
    "        self.en_conv1 = nn.Conv2d(1,16,3,padding=1)\n",
    "        self.en_conv2 = nn.Conv2d(16,32,3,padding=1)\n",
    "        self.en_conv3 = nn.Conv2d(32,4,3,padding=1)\n",
    "        # Decoder\n",
    "        self.de_tconv1 = nn.ConvTranspose2d(4,32,3,stride=2)\n",
    "        self.de_tconv2 = nn.ConvTranspose2d(32,16,2,stride=2)\n",
    "        self.de_tconv3 = nn.ConvTranspose2d(16,1,2,stride=2)\n",
    "        \n",
    "        self.pool = nn.MaxPool2d(2,2)\n",
    "    \n",
    "    def forward(self, x):\n",
    "        #x = x.view(x.size(0),-1)\n",
    "        #print(x.shape, \"before conv1\")\n",
    "        x = F.relu(self.en_conv1(x))\n",
    "        #print(x.shape, \"after conv1\")\n",
    "        x = self.pool(x)\n",
    "        #print(x.shape, \"after pooling at conv1\")\n",
    "        x = F.relu(self.en_conv2(x))\n",
    "        #print(x.shape, \"after conv2\")\n",
    "        x = self.pool(x)\n",
    "        #print(x.shape, \"after pooling at conv2\")\n",
    "        x = F.relu(self.en_conv3(x))\n",
    "        #print(x.shape, \"after conv3\")\n",
    "        x = self.pool(x) #Compressed representation\n",
    "        #print(x.shape, \"after final pooling (compressed representation)\")\n",
    "        x = F.relu(self.de_tconv1(x))\n",
    "        #print(x.shape, \"after tconv1\")\n",
    "        x = F.relu(self.de_tconv2(x))\n",
    "        #print(x.shape, \"after tconv2\")\n",
    "        x = F.sigmoid(self.de_tconv3(x)) # sigmoid to scale the pixel values in grayscale from 0 to 1\n",
    "        #print(x.shape, \"after sigmoid\")\n",
    "        return x\n",
    "\n",
    "model = tCNN_Autoencoder()\n",
    "print(model)"
   ]
  },
  {
   "cell_type": "code",
   "execution_count": 111,
   "metadata": {},
   "outputs": [],
   "source": [
    "criterion = nn.MSELoss() # better suited for comparing quantities rather than CrossEntropyLoss for probabilities\n",
    "optimizer = torch.optim.Adam(model.parameters(), lr=0.001)\n",
    "n_epochs = 20"
   ]
  },
  {
   "cell_type": "code",
   "execution_count": 112,
   "metadata": {},
   "outputs": [
    {
     "name": "stdout",
     "output_type": "stream",
     "text": [
      "Epoch: 0 \tTraining Loss: 1.8866567137193523961968821822665631771087646484375\n",
      "Epoch: 1 \tTraining Loss: 1.4500508819416868533380693406797945499420166015625\n",
      "Epoch: 2 \tTraining Loss: 1.3843112176982141914294288653763942420482635498046875\n",
      "Epoch: 3 \tTraining Loss: 1.346026449429059912432649070979095995426177978515625\n",
      "Epoch: 4 \tTraining Loss: 1.32139925509899835986971083912067115306854248046875\n",
      "Epoch: 5 \tTraining Loss: 1.30277252250806885314204919268377125263214111328125\n",
      "Epoch: 6 \tTraining Loss: 1.1613938235897245387917564585222862660884857177734375\n",
      "Epoch: 7 \tTraining Loss: 0.76720714504077403006476743030361831188201904296875\n",
      "Epoch: 8 \tTraining Loss: 0.722754757908727896165146376006305217742919921875\n",
      "Epoch: 9 \tTraining Loss: 0.70499977828935656010145294203539378941059112548828125\n",
      "Epoch: 10 \tTraining Loss: 0.69105504011292906429986260263831354677677154541015625\n",
      "Epoch: 11 \tTraining Loss: 0.67938745750537610224029094752040691673755645751953125\n",
      "Epoch: 12 \tTraining Loss: 0.66922276231364230536513559854938648641109466552734375\n",
      "Epoch: 13 \tTraining Loss: 0.660688276894171533371036275639198720455169677734375\n",
      "Epoch: 14 \tTraining Loss: 0.65351485433530653867961746072978712618350982666015625\n",
      "Epoch: 15 \tTraining Loss: 0.64743115074977775069697827348136343061923980712890625\n",
      "Epoch: 16 \tTraining Loss: 0.6421305373488355172639785450883209705352783203125\n",
      "Epoch: 17 \tTraining Loss: 0.637487564651392002446073092869482934474945068359375\n",
      "Epoch: 18 \tTraining Loss: 0.632989082415903236977783308248035609722137451171875\n",
      "Epoch: 19 \tTraining Loss: 0.6292660930448195077957507237442769110202789306640625\n"
     ]
    }
   ],
   "source": [
    "for epoch in range(n_epochs):\n",
    "    train_loss = 0\n",
    "    \n",
    "    for data in train_loader:\n",
    "        images, labels = data\n",
    "        #images = images.view(images.size(0), -1)\n",
    "        optimizer.zero_grad()\n",
    "        output = model(images)\n",
    "        loss = criterion(output, images)\n",
    "        loss.backward()\n",
    "        optimizer.step()\n",
    "        train_loss += loss.item()*images.size(0)\n",
    "        \n",
    "    train_loss = train_loss / len(train_loader)\n",
    "    print('Epoch: {} \\tTraining Loss: {:.64}'.format(epoch, train_loss))"
   ]
  },
  {
   "cell_type": "code",
   "execution_count": 114,
   "metadata": {},
   "outputs": [
    {
     "data": {
      "image/png": "[encoded data removed]",
      "text/plain": [
       "<Figure size 1800x288 with 20 Axes>"
      ]
     },
     "metadata": {
      "needs_background": "light"
     },
     "output_type": "display_data"
    }
   ],
   "source": [
    "dataiter = iter(test_loader)\n",
    "images, labels = dataiter.next()\n",
    "#images_flatten = images.view(images.size(0), -1)\n",
    "output = model(images)\n",
    "images = images.numpy()\n",
    "output = output.view(batch_size, 1, 28, 28)\n",
    "# Use detach when it's an output that requires_grad\n",
    "output = output.detach().numpy()\n",
    "fig, axes = plt.subplots(nrows=2, ncols=10, sharex=True, sharey=True, figsize=(25,4))\n",
    "\n",
    "for images, row in zip([images, output], axes):\n",
    "    for img, ax in zip(images, row):\n",
    "        ax.imshow(np.squeeze(img), cmap='gray')\n",
    "        ax.get_xaxis().set_visible(False)\n",
    "        ax.get_yaxis().set_visible(False)"
   ]
  },
  {
   "cell_type": "code",
   "execution_count": null,
   "metadata": {},
   "outputs": [],
   "source": []
  }
 ],
 "metadata": {
  "kernelspec": {
   "display_name": "Python 3",
   "language": "python",
   "name": "python3"
  },
  "language_info": {
   "codemirror_mode": {
    "name": "ipython",
    "version": 3
   },
   "file_extension": ".py",
   "mimetype": "text/x-python",
   "name": "python",
   "nbconvert_exporter": "python",
   "pygments_lexer": "ipython3",
   "version": "3.5.5"
  }
 },
 "nbformat": 4,
 "nbformat_minor": 4
}
